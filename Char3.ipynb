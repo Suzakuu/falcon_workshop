{
 "cells": [
  {
   "cell_type": "markdown",
   "id": "60e70a84-bcd8-4b83-ad48-6f48aba7d3b5",
   "metadata": {},
   "source": [
    "## Diego Hurtado // Suzaku\n",
    "diego.hurtado@userena.cl \\\n",
    "Terza prueba de caracterización para FALCON @ ULS \\\n",
    "Julio 25\n",
    "Reehaciendo calibraciones con imagenes antiguas"
   ]
  },
  {
   "cell_type": "code",
   "execution_count": null,
   "id": "f0445e43-ff24-4102-973c-4906b88562b6",
   "metadata": {
    "execution": {
     "iopub.execute_input": "2025-01-12T04:46:51.346072Z",
     "iopub.status.busy": "2025-01-12T04:46:51.345828Z",
     "iopub.status.idle": "2025-01-12T04:46:52.582516Z",
     "shell.execute_reply": "2025-01-12T04:46:52.581977Z",
     "shell.execute_reply.started": "2025-01-12T04:46:51.346058Z"
    },
    "scrolled": true
   },
   "outputs": [],
   "source": [
    "#Comienzo importando todo lo que ocupo\n",
    "import numpy as np\n",
    "import glob\n",
    "import matplotlib.pyplot as plt\n",
    "from pprint import pprint\n",
    "import os, re, sys\n",
    "import astropy\n",
    "from astropy.io import fits\n",
    "from astropy.stats import sigma_clipped_stats\n",
    "import ccdproc as ccdp\n",
    "from astropy.nddata import CCDData\n",
    "from astropy import units as u\n",
    "from scipy.ndimage import gaussian_filter\n",
    "from mpl_toolkits.mplot3d import Axes3D\n",
    "from scipy.ndimage import uniform_filter, median_filter\n",
    "from scipy.stats import norm\n",
    "import matplotlib.mlab as mlab"
   ]
  },
  {
   "cell_type": "code",
   "execution_count": null,
   "id": "34d9ada5-bf79-4bf4-8d02-e78357dc2bff",
   "metadata": {
    "execution": {
     "iopub.execute_input": "2024-11-14T13:17:27.949847Z",
     "iopub.status.busy": "2024-11-14T13:17:27.949586Z",
     "iopub.status.idle": "2024-11-14T13:17:27.957265Z",
     "shell.execute_reply": "2024-11-14T13:17:27.956802Z",
     "shell.execute_reply.started": "2024-11-14T13:17:27.949832Z"
    }
   },
   "outputs": [],
   "source": [
    "#Checkeo manual de header de las imagenes\n",
    "dirname = './11-24/lights/'\n",
    "filename = 'light00000014.fit'\n",
    "\n",
    "with fits.open(os.path.join(dirname, filename)) as hdul:\n",
    "    hdul.info()\n",
    "header = fits.getheader(os.path.join(dirname, filename))\n",
    "pprint(header)"
   ]
  },
  {
   "cell_type": "code",
   "execution_count": null,
   "id": "86983769-98a9-4006-a1c8-207fdd9643ed",
   "metadata": {
    "execution": {
     "iopub.execute_input": "2024-11-14T20:44:06.561662Z",
     "iopub.status.busy": "2024-11-14T20:44:06.561392Z",
     "iopub.status.idle": "2024-11-14T20:44:07.469020Z",
     "shell.execute_reply": "2024-11-14T20:44:07.468459Z",
     "shell.execute_reply.started": "2024-11-14T20:44:06.561649Z"
    }
   },
   "outputs": [],
   "source": [
    "#Renombro las imagenes en bruto para facilidad de lectura de achivos\n",
    "def renamer(dirname):     #Valido FALCON por Keywords (OBJECT-FILTER-EXPTIMEs-IMAGETYP.fit)\n",
    "    dirname = dirname\n",
    "    hdu = 0\n",
    "    filequan = 0 #Cuantificador de archivos\n",
    "    for path in os.listdir(dirname):\n",
    "        if os.path.isfile(os.path.join(dirname, path)):\n",
    "            filequan += 1\n",
    "    print(filequan)\n",
    "\n",
    "\n",
    "    i = 0\n",
    "    if filequan == 0:\n",
    "        message = f'No files ({i}) to rename in {dirname}' #Control\n",
    "    if filequan > 0:\n",
    "        for fitsName in sorted(glob.glob(dirname+'*.fit')): #Esto deberia ciclar por los archivos en carpeta\n",
    "            header = fits.getheader(fitsName, hdu)\n",
    "            os.rename(fitsName,f\"{dirname}-{header.get(\"IMAGETYP\")}-{header.get(\"FILTER\")}-{header.get(\"OBJECT\")}-{i}.fit\")\n",
    "            #print(f'{fitsName} renombrada') #Control\n",
    "            i=i+1\n",
    "        message = f'Renamed {i} file(s) in {dirname}' #Control\n",
    "    return(message)\n",
    "\n",
    "\n",
    "#print(renamer('./11-24/lights/'))\n",
    "print(renamer('./11-24/series/'))"
   ]
  },
  {
   "cell_type": "code",
   "execution_count": null,
   "id": "bccdba16-dbea-4d31-b2fc-6880f9120f58",
   "metadata": {
    "execution": {
     "iopub.execute_input": "2024-11-14T20:44:13.790307Z",
     "iopub.status.busy": "2024-11-14T20:44:13.790078Z",
     "iopub.status.idle": "2024-11-14T20:44:15.965334Z",
     "shell.execute_reply": "2024-11-14T20:44:15.964722Z",
     "shell.execute_reply.started": "2024-11-14T20:44:13.790294Z"
    },
    "scrolled": true
   },
   "outputs": [],
   "source": [
    "#Checking de headers\n",
    "hdu = 0\n",
    "fitsNames = []\n",
    "dirname = './11-24/lights/'\n",
    "keys=['OBJECT','EXPTIME','FILTER','FOCPOS','AIRMASS','CCD-TEMP']\n",
    "\n",
    "#For para cada archivo fits en el directorio establecido (dir) printeamos su header con las keywords seleccionadas a mano\n",
    "for fitsName in sorted(glob.glob(dirname+'*.fit')):\n",
    "    pprint(fitsName.replace(dirname,'File'))\n",
    "    header = fits.getheader(fitsName, hdu)\n",
    "    outkeys = [(key, header.get(key)) for key in keys]\n",
    "    for kwrd in outkeys:\n",
    "        print( f\"{kwrd[0]:<10} =  {kwrd[1]}\")\n",
    "        #Alinear string format\n",
    "    print('\\n')"
   ]
  },
  {
   "cell_type": "code",
   "execution_count": null,
   "id": "a273eb69-7743-444d-96c9-d4e2bbe30e22",
   "metadata": {
    "execution": {
     "iopub.execute_input": "2024-11-15T18:34:22.620331Z",
     "iopub.status.busy": "2024-11-15T18:34:22.620084Z",
     "iopub.status.idle": "2024-11-15T18:34:23.419268Z",
     "shell.execute_reply": "2024-11-15T18:34:23.418836Z",
     "shell.execute_reply.started": "2024-11-15T18:34:22.620318Z"
    }
   },
   "outputs": [],
   "source": [
    "usigma, lsigma = 2,2\n",
    "with fits.open('./images/11-09/lights/Light Frame-11-NGC 253-161.fit') as hdul:\n",
    "    data = hdul[0].data\n",
    "    header = hdul[0].header\n",
    "datamedian = np.median(data)\n",
    "datastd = np.std(data)\n",
    "plt.imshow(data, origin='lower', cmap='Blues', vmin=np.mean(data)-lsigma*np.std(data), vmax=np.mean(data)+usigma*np.std(data))\n",
    "plt.tick_params(left = False, right = False, labelleft = False, labelbottom = False, bottom = False) \n",
    "plt.title('Light Frame-11-NGC 253-161.fit')\n",
    "plt.show"
   ]
  },
  {
   "cell_type": "markdown",
   "id": "771fe91c-4249-4821-877c-ec25d36636c3",
   "metadata": {},
   "source": [
    "La imagen de arriba muestra cómo resulta una imagen al cortarse la alimentación en plena exposición"
   ]
  },
  {
   "cell_type": "code",
   "execution_count": null,
   "id": "e8e37ae6-dcb9-43f1-9d90-871e03785dcb",
   "metadata": {
    "execution": {
     "iopub.execute_input": "2024-11-14T20:43:48.415512Z",
     "iopub.status.busy": "2024-11-14T20:43:48.415278Z",
     "iopub.status.idle": "2024-11-14T20:43:50.062796Z",
     "shell.execute_reply": "2024-11-14T20:43:50.062149Z",
     "shell.execute_reply.started": "2024-11-14T20:43:48.415499Z"
    },
    "scrolled": true
   },
   "outputs": [],
   "source": [
    "#Checkeo simultáneo de imágenes de cada imagen, se generaron errores por la transferencia de imagenes\n",
    "\n",
    "dirname = './images/11-09/lights/'\n",
    "usigma, lsigma = 2,2\n",
    "    #plt.figure(figsize=(12,10))\n",
    "for filename in sorted(glob.glob(dirname+'*.fit')):\n",
    "    try: \n",
    "        with fits.open(filename) as hdul:\n",
    "            data = hdul[0].data # assume the first extension is an image\n",
    "            header = hdul[0].header\n",
    "        print(f'{filename} correct')\n",
    "    except:\n",
    "        print(f'{filename} causes error')"
   ]
  },
  {
   "cell_type": "code",
   "execution_count": null,
   "id": "e236aa62-8b96-4f83-8058-4b020cd194ee",
   "metadata": {
    "execution": {
     "iopub.execute_input": "2025-01-12T04:59:11.863662Z",
     "iopub.status.busy": "2025-01-12T04:59:11.863501Z",
     "iopub.status.idle": "2025-01-12T05:02:46.134757Z",
     "shell.execute_reply": "2025-01-12T05:02:46.134116Z",
     "shell.execute_reply.started": "2025-01-12T04:59:11.863647Z"
    }
   },
   "outputs": [],
   "source": [
    "#Checkeo simultáneo de imágenes de cada objecto, notar que cada filtro le corresponde un número según su posición en TSXPro en el PC@FALCON\n",
    "#savedir = './pngs/dump/' #Uncoment to save\n",
    "dirname = './images/11-09/lights/'\n",
    "usigma, lsigma = 0.5, 0.5\n",
    "\n",
    "for filename in sorted(glob.glob(dirname+'*.fit')):\n",
    "    with fits.open(filename) as hdul:\n",
    "        data = hdul[0].data # assume the first extension is an image\n",
    "        header = hdul[0].header\n",
    "    if header.get(\"FILTER\") == None:\n",
    "        colors = 'Greys'\n",
    "    elif int(header.get(\"FILTER\")) == 2: #B\n",
    "        colors = 'Blues'\n",
    "    elif int(header.get(\"FILTER\")) == 3: #V\n",
    "        colors = 'Greens'\n",
    "    elif int(header.get(\"FILTER\")) == 4: #R\n",
    "        colors = 'Oranges'\n",
    "    elif int(header.get(\"FILTER\")) == 5: #I\n",
    "        colors = 'Reds'\n",
    "    elif int(header.get(\"FILTER\")) == 11: #g'\n",
    "        colors = 'Blues'\n",
    "    elif int(header.get(\"FILTER\")) == 12: #r'\n",
    "        colors = 'Greens'\n",
    "    elif int(header.get(\"FILTER\")) == 13: #i'\n",
    "        colors = 'Oranges'\n",
    "    elif int(header.get(\"FILTER\")) == 14: #z'\n",
    "        colors = 'Reds'\n",
    "    else:\n",
    "        colors = 'Greys'\n",
    "    datamedian = np.median(data)\n",
    "    datastd = np.std(data)\n",
    "    plt.figure(figsize=(12,10))\n",
    "    plt.imshow(data, origin='lower', cmap=colors, vmin=np.mean(data)-lsigma*np.std(data), vmax=np.mean(data)+usigma*np.std(data))\n",
    "    plt.tick_params(left = False, right = False, labelleft = False, labelbottom = False, bottom = False) \n",
    "    plt.title(filename.replace(dirname,''))\n",
    "    plt.show\n",
    "    #plt.savefig(f'{savedir}{filename.replace(dirname,\"\")}.png',format='png') #Uncomentt to save\n",
    "    plt.close"
   ]
  },
  {
   "cell_type": "markdown",
   "id": "6890f673-2506-43ec-ae37-66ce211159ba",
   "metadata": {},
   "source": [
    "## Calibrador de imágenes\n",
    "Una vez revisadas las imagenes, procederé a crear los masters para la calibración de las imágenes \\\n",
    "Idealmente no correr más de una vez por carpeta ya que puede sobrescribir"
   ]
  },
  {
   "cell_type": "code",
   "execution_count": null,
   "id": "82ff55c5-3fb0-42d2-b53f-f0660f99b357",
   "metadata": {
    "execution": {
     "iopub.execute_input": "2024-11-05T01:41:33.038649Z",
     "iopub.status.busy": "2024-11-05T01:41:33.038407Z",
     "iopub.status.idle": "2024-11-05T01:41:33.041478Z",
     "shell.execute_reply": "2024-11-05T01:41:33.041041Z",
     "shell.execute_reply.started": "2024-11-05T01:41:33.038635Z"
    }
   },
   "outputs": [],
   "source": [
    "dirlight = './images/lights/'\n",
    "dirdark = './images/darks/'\n",
    "dirbias = './images/bias/'\n",
    "dirflat1 = './images/flats/1/'\n",
    "dirflat2 = './images/flats/2/'\n",
    "dirflat4 = './images/flats/4/'\n",
    "dirflat5 = './images/flats/5/'\n",
    "dirflat12 = './images/flats/12/'\n",
    "dirflat13 = './images/flats/13/'\n",
    "out = './images/masters/'\n"
   ]
  },
  {
   "cell_type": "code",
   "execution_count": null,
   "id": "89f3b64c-896f-41f7-93e7-7bae6e853530",
   "metadata": {
    "execution": {
     "iopub.execute_input": "2024-11-05T01:41:33.042279Z",
     "iopub.status.busy": "2024-11-05T01:41:33.042142Z",
     "iopub.status.idle": "2024-11-05T01:41:33.066739Z",
     "shell.execute_reply": "2024-11-05T01:41:33.066333Z",
     "shell.execute_reply.started": "2024-11-05T01:41:33.042267Z"
    }
   },
   "outputs": [],
   "source": [
    "#Cargador de imágenes\n",
    "def loader(dirname):\n",
    "    images = []\n",
    "    for file in sorted(glob.glob(dirname+'*.fit')): #Toma todos los fit de un (dir)ectorio, incluso si no son del mismo tipo\n",
    "        with fits.open(file) as hdul:\n",
    "            images.append(CCDData(hdul[0].data,unit=u.adu))\n",
    "    print('Done',dirname)\n",
    "    return images\n",
    "\n",
    "bias = loader(dirbias)\n",
    "#Discrimido por filtros en carpeta, donde blue es B, green es R y red es I (Jhonson)\n",
    "flats1, flats12, flats13 = loader(dirflat1), loader(dirflat12), loader(dirflat13)\n",
    "flatsblue, flatsgreen, flatsred = loader(dirflat2), loader(dirflat4), loader(dirflat5)"
   ]
  },
  {
   "cell_type": "code",
   "execution_count": null,
   "id": "723ef346-964b-4720-b92a-4a0e89971712",
   "metadata": {
    "execution": {
     "iopub.execute_input": "2024-11-05T01:41:33.067402Z",
     "iopub.status.busy": "2024-11-05T01:41:33.067273Z",
     "iopub.status.idle": "2024-11-05T01:41:33.088735Z",
     "shell.execute_reply": "2024-11-05T01:41:33.088270Z",
     "shell.execute_reply.started": "2024-11-05T01:41:33.067390Z"
    }
   },
   "outputs": [],
   "source": [
    "def master_creator(images, method='median', scale=False):\n",
    "    combined = ccdp.combine(images, method=method, sigma_clip=True, sigma_clip_low_thresh=5, sigma_clip_high_thresh=5)\n",
    "    if scale: #Si scale=True calcula escala las imagenes a mayores exptime\n",
    "        combined = ccdp.subtract_bias(combined, master_creator(bias))\n",
    "    print('Done')\n",
    "    return combined\n",
    "\n",
    "master_bias = master_creator(bias)\n",
    "#Master por filtro\n",
    "master_flat1 = master_creator(flats1)\n",
    "master_flatblue = master_creator(flatsblue)\n",
    "master_flatgreen = master_creator(flatsgreen)\n",
    "master_flatred = master_creator(flatsred)\n",
    "master_flat12 = master_creator(flats12)\n",
    "master_flat13 = master_creator(flats13)\n",
    "\n",
    "master_bias.write(os.path.join(out, 'master_bias.fits'), overwrite=True)\n",
    "master_flat1.write(os.path.join(out, 'master_flat1.fits'), overwrite=True)\n",
    "master_flatblue.write(os.path.join(out, 'master_flatblue.fits'), overwrite=True)\n",
    "master_flatgreen.write(os.path.join(out, 'master_flatgreen.fits'), overwrite=True)\n",
    "master_flatred.write(os.path.join(out, 'master_flatred.fits'), overwrite=True)\n",
    "master_flat12.write(os.path.join(out, 'master_flat12.fits'), overwrite=True)\n",
    "master_flat13.write(os.path.join(out, 'master_flat13.fits'), overwrite=True)"
   ]
  },
  {
   "cell_type": "code",
   "execution_count": null,
   "id": "5d5fe974-db1d-4f71-aac5-e0f3cfe96097",
   "metadata": {
    "execution": {
     "iopub.execute_input": "2024-11-05T01:41:33.089365Z",
     "iopub.status.busy": "2024-11-05T01:41:33.089240Z",
     "iopub.status.idle": "2024-11-05T01:41:33.110468Z",
     "shell.execute_reply": "2024-11-05T01:41:33.110024Z",
     "shell.execute_reply.started": "2024-11-05T01:41:33.089353Z"
    }
   },
   "outputs": [],
   "source": [
    "#Fix darks por exptime\n",
    "darks = loader(os.path.join(dirdark,'10/'))\n",
    "master_dark = master_creator(darks)\n",
    "master_dark.write(os.path.join(out, 'master_10dark.fits'), overwrite=True)\n",
    "\n",
    "darks = loader(os.path.join(dirdark,'30/'))\n",
    "master_dark = master_creator(darks)\n",
    "master_dark.write(os.path.join(out, 'master_30dark.fits'), overwrite=True)\n",
    "\n",
    "darks = loader(os.path.join(dirdark,'60/'))\n",
    "master_dark = master_creator(darks)\n",
    "master_dark.write(os.path.join(out, 'master_60dark.fits'), overwrite=True)\n",
    "\n",
    "darks = loader(os.path.join(dirdark,'120/'))\n",
    "master_dark = master_creator(darks)\n",
    "master_dark.write(os.path.join(out, 'master_120dark.fits'), overwrite=True)"
   ]
  },
  {
   "cell_type": "code",
   "execution_count": null,
   "id": "0be997d7-f874-4c78-8d2b-442a8d91bad3",
   "metadata": {
    "execution": {
     "iopub.execute_input": "2024-11-05T01:41:33.112483Z",
     "iopub.status.busy": "2024-11-05T01:41:33.112145Z",
     "iopub.status.idle": "2024-11-05T01:41:33.131279Z",
     "shell.execute_reply": "2024-11-05T01:41:33.130854Z",
     "shell.execute_reply.started": "2024-11-05T01:41:33.112470Z"
    }
   },
   "outputs": [],
   "source": [
    "#print(bias)"
   ]
  },
  {
   "cell_type": "code",
   "execution_count": null,
   "id": "bb4d834f-0aa5-4bf6-970f-3dfc1a2b64a4",
   "metadata": {
    "execution": {
     "iopub.execute_input": "2024-11-05T01:41:33.131970Z",
     "iopub.status.busy": "2024-11-05T01:41:33.131843Z",
     "iopub.status.idle": "2024-11-05T01:41:33.156522Z",
     "shell.execute_reply": "2024-11-05T01:41:33.156102Z",
     "shell.execute_reply.started": "2024-11-05T01:41:33.131958Z"
    }
   },
   "outputs": [],
   "source": [
    "#ccdp.subtract_bias(light, master_bias)\n",
    "#ccdp.subtract_dark(calibrated, master_dark, exposure_time='EXPTIME', exposure_unit=u.second)\n",
    "#ccdp.flat_correct(calibrated, master_flat)\n",
    "#ccdmaster_bias = CCDData('./images/masters/master_bias.fits',unit=u.adu)\n",
    "\n",
    "#CORRER PARA CADA CARPETA CON LIGHTS, NO CORRER MÁS DE UNA VEZ POR CARPETA\n",
    "with fits.open('./images/masters/master_bias.fits') as hdul:\n",
    "        master_bias = hdul[0].data.astype(float)\n",
    "\n",
    "currentpath = './calibrations/'\n",
    "for file in glob.glob(currentpath+'*.fit'):\n",
    "    with fits.open(file) as hdul:\n",
    "        data = hdul[0].data.astype(float)\n",
    "        header = hdul[0].header\n",
    "        #ccddata = CCDData(data, unit=u.adu)\n",
    "    biased = (data - master_bias)\n",
    "    fits.writeto(file, biased, header, overwrite=True)\n",
    "    print('Done', file)"
   ]
  },
  {
   "cell_type": "code",
   "execution_count": null,
   "id": "057eeba1-d164-4571-b713-39cd3c38359d",
   "metadata": {
    "execution": {
     "iopub.execute_input": "2024-11-05T01:41:33.157191Z",
     "iopub.status.busy": "2024-11-05T01:41:33.157061Z",
     "iopub.status.idle": "2024-11-05T01:41:33.191091Z",
     "shell.execute_reply": "2024-11-05T01:41:33.190663Z",
     "shell.execute_reply.started": "2024-11-05T01:41:33.157180Z"
    }
   },
   "outputs": [],
   "source": [
    "#Por la falta de dark de 20 segundos, creo uno artificialmente\n",
    "with fits.open('./images/masters/master_10dark.fits') as hdul:\n",
    "    master_dark_10s = hdul[0].data.astype(float)\n",
    "    \n",
    "with fits.open('./images/masters/master_30dark.fits') as hdul:\n",
    "    master_dark_30s = hdul[0].data.astype(float)\n",
    "\n",
    "exposure_10s = 10\n",
    "exposure_30s = 30\n",
    "target_exposure = 20\n",
    "\n",
    "weight_10s = (exposure_30s - target_exposure) / (exposure_30s - exposure_10s)\n",
    "weight_30s = (target_exposure - exposure_10s) / (exposure_30s - exposure_10s)\n",
    "master_dark_20s = weight_10s * master_dark_10s + weight_30s * master_dark_30s\n",
    "\n",
    "output_filename = './images/masters/master_20dark.fits'\n",
    "fits.writeto(output_filename, master_dark_20s, overwrite=True)"
   ]
  },
  {
   "cell_type": "code",
   "execution_count": null,
   "id": "abcbd30a-b522-4b4b-8f29-d7123b378e15",
   "metadata": {
    "execution": {
     "iopub.execute_input": "2024-11-05T01:41:33.191863Z",
     "iopub.status.busy": "2024-11-05T01:41:33.191735Z",
     "iopub.status.idle": "2024-11-05T01:41:33.215732Z",
     "shell.execute_reply": "2024-11-05T01:41:33.215323Z",
     "shell.execute_reply.started": "2024-11-05T01:41:33.191851Z"
    }
   },
   "outputs": [],
   "source": [
    "def scale_dark(master_dark, target_exposure, dark_exposure):\n",
    "    scale_factor = target_exposure / dark_exposure\n",
    "    return master_dark * scale_factor\n",
    "\n",
    "#CORRER PARA CADA CARPETA CON LIGHTS, NO CORRER MÁS DE UNA VEZ POR CARPETA\n",
    "with fits.open('./images/masters/master_120dark.fits') as hdul:\n",
    "        master_dark = hdul[0].data.astype(float)\n",
    "\n",
    "scaled_dark = scale_dark(master_dark, target_exposure=150, dark_exposure=120)\n",
    "\n",
    "currentpath = './images/lights/NGC 1812/'\n",
    "for file in glob.glob(currentpath+'*.fit'):\n",
    "    with fits.open(file) as hdul:\n",
    "        data = hdul[0].data.astype(float)\n",
    "        header = hdul[0].header\n",
    "        #ccddata = CCDData(data, unit=u.adu)\n",
    "    darkened = (data - scaled_dark)\n",
    "    fits.writeto(file, darkened, header, overwrite=True)\n",
    "    print('Done', file)"
   ]
  },
  {
   "cell_type": "code",
   "execution_count": null,
   "id": "74b1efbb-f5f2-452b-a33c-739fd78b18c2",
   "metadata": {
    "execution": {
     "iopub.execute_input": "2024-11-05T01:41:33.216435Z",
     "iopub.status.busy": "2024-11-05T01:41:33.216310Z",
     "iopub.status.idle": "2024-11-05T01:41:33.237420Z",
     "shell.execute_reply": "2024-11-05T01:41:33.236920Z",
     "shell.execute_reply.started": "2024-11-05T01:41:33.216424Z"
    }
   },
   "outputs": [],
   "source": [
    "#Thus, todas las imagenes están calibradas por bias y darks correspondientes, ahora con los flats\n",
    "filter_mapping = {\n",
    "    '5': 'red',\n",
    "    '4': 'green',\n",
    "    '2': 'blue'\n",
    "}\n",
    "\n",
    "def calibrate_flat(currentpath, masterpath):\n",
    "\n",
    "    flat_frames = {}\n",
    "    for flat_file in os.listdir(masterpath):\n",
    "        if flat_file.endswith('.fits'):\n",
    "            match = re.search(r'(red|green|blue)', flat_file, re.IGNORECASE)\n",
    "            if match:\n",
    "                color1 = match.group(1).lower()\n",
    "                with fits.open(os.path.join(masterpath, flat_file)) as hdul:\n",
    "                    flat_frames[color1] = hdul[0].data.astype(float) / np.median(hdul[0].data)\n",
    "\n",
    "    for filename in os.listdir(currentpath):\n",
    "        if filename.endswith('.fit'):\n",
    "            match = re.search(r'-(\\d{1,2})-', filename)\n",
    "            if match:\n",
    "                filter_number = match.group(1)\n",
    "                color2 = filter_mapping.get(filter_number)\n",
    "                \n",
    "                if color1 and color2 in flat_frames:\n",
    "                    with fits.open(os.path.join(currentpath,  filename)) as hdul:\n",
    "                        image_data = hdul[0].data.astype(float)\n",
    "                        header = hdul[0].header\n",
    "\n",
    "                        calibrated_data = image_data / flat_frames[color1]\n",
    "                        fits.writeto(filename, calibrated_data, header, overwrite=True)\n",
    "                        print(f\"Calibrated and saved: {filename}\")\n",
    "                else:\n",
    "                    print(f\"No matching flat frame for filter: {filter_number} in image {filename}\")\n",
    "\n",
    "masterpath = './images/masters/'\n",
    "\n",
    "currentpath = './images/lights/NGC 1812/'\n",
    "calibrate_flat(currentpath, masterpath)\n",
    "\n",
    "currentpath = './images/lights/NGC 1976/'\n",
    "calibrate_flat(currentpath, masterpath)\n",
    "\n",
    "currentpath = './images/lights/NGC 2070/'\n",
    "calibrate_flat(currentpath, masterpath)\n",
    "\n",
    "currentpath = './images/lights/PCG 10488/'\n",
    "calibrate_flat(currentpath, masterpath)"
   ]
  },
  {
   "cell_type": "code",
   "execution_count": null,
   "id": "2e235729-94aa-4c8f-8f70-9234d5323cfb",
   "metadata": {
    "execution": {
     "iopub.execute_input": "2024-11-05T21:44:47.388111Z",
     "iopub.status.busy": "2024-11-05T21:44:47.387764Z",
     "iopub.status.idle": "2024-11-05T21:44:47.902530Z",
     "shell.execute_reply": "2024-11-05T21:44:47.902025Z",
     "shell.execute_reply.started": "2024-11-05T21:44:47.388095Z"
    }
   },
   "outputs": [],
   "source": [
    "#Checkeo de la Dark Current\n",
    "currentpath = './images/masters/'\n",
    "dark_frames = ['master_10dark.fits', 'master_30dark.fits', 'master_60dark.fits','master_120dark.fits']\n",
    "exptimes = [10, 30, 60, 120]\n",
    "means = []\n",
    "\n",
    "for dark_frame in dark_frames:\n",
    "    with fits.open(os.path.join(currentpath, dark_frame))as hdul:\n",
    "        data = hdul[0].data\n",
    "        mean_signal = np.mean(data)\n",
    "        means.append(mean_signal)\n",
    "plt.figure(figsize=(8,7))\n",
    "plt.plot(exptimes, means, 'o-',color='purple')#, label='Dark Current')\n",
    "plt.xlabel('Exposure Time (s)')\n",
    "plt.ylabel('Mean Signal')\n",
    "plt.title('Dark Current vs Exposure Time')\n",
    "plt.grid(visible=True, which='major', axis='both')\n",
    "plt.savefig('dqvsexptime.png')"
   ]
  },
  {
   "cell_type": "code",
   "execution_count": null,
   "id": "c296ec93-3e67-4b1c-b9b1-1b9c5224a7c8",
   "metadata": {
    "execution": {
     "iopub.execute_input": "2024-11-05T01:41:33.754658Z",
     "iopub.status.busy": "2024-11-05T01:41:33.754487Z",
     "iopub.status.idle": "2024-11-05T01:41:33.759893Z",
     "shell.execute_reply": "2024-11-05T01:41:33.759440Z",
     "shell.execute_reply.started": "2024-11-05T01:41:33.754643Z"
    }
   },
   "outputs": [],
   "source": [
    "#Funciones para calcular Ganancia y Read Noise según Handbook of CCD Astronomy (fuente en ppt)\n",
    "\n",
    "def gainfun(flat1, flat2, bias1, bias2):\n",
    "    with fits.open(flat1) as hdul1, fits.open(flat2) as hdul2, fits.open(bias1) as hdul3, fits.open(bias2) as hdul4:\n",
    "        data1 = hdul1[0].data.astype(float)\n",
    "        data2 = hdul2[0].data.astype(float)\n",
    "        data3 = hdul3[0].data.astype(float)\n",
    "        data4 = hdul4[0].data.astype(float)\n",
    "\n",
    "    mean1, mean2, mean3, mean4 = np.mean(data1), np.mean(data2), np.mean(data3), np.mean(data4)\n",
    "    stdflat = np.std(data1-data2)\n",
    "    stdbias = np.std(data3-data4)\n",
    "    gain = ((mean1+mean2)-(mean3+mean4))/((stdflat**2)-(stdbias**2))\n",
    "        \n",
    "    #print(f\"Calculated Gain: {round(gain, 4)} e-/ADU\")\n",
    "    return gain\n",
    "\n",
    "def read_noise(bias1, bias2, gain): #Ahora tengo 1, pero sirve para más\n",
    "\n",
    "    with fits.open(bias1) as hdul1, fits.open(bias2) as hdul2:\n",
    "        data1 = hdul1[0].data.astype(float)\n",
    "        data2 = hdul2[0].data.astype(float)\n",
    "\n",
    "    stdbias = np.std(data1-data2)\n",
    "    read_noise = (gain*stdbias)/(np.sqrt(2))\n",
    "    \n",
    "    #print(f\"Calculated Read Noise: {round(read_noise, 4)} e-\")\n",
    "    return read_noise"
   ]
  },
  {
   "cell_type": "code",
   "execution_count": null,
   "id": "4c6966cc-fed0-43d3-b17b-af0f2fe9f98c",
   "metadata": {
    "execution": {
     "iopub.execute_input": "2024-11-05T01:41:33.760622Z",
     "iopub.status.busy": "2024-11-05T01:41:33.760483Z",
     "iopub.status.idle": "2024-11-05T01:41:34.863276Z",
     "shell.execute_reply": "2024-11-05T01:41:34.862615Z",
     "shell.execute_reply.started": "2024-11-05T01:41:33.760610Z"
    }
   },
   "outputs": [],
   "source": [
    "#Eligo los archivos y corro las funciones\n",
    "flat1 = './images/flats/2/84-Entered Coordinates-2-0.2s-Flat Field.fit'\n",
    "flat2 = './images/flats/5/88-Entered Coordinates-5-0.2s-Flat Field.fit'\n",
    "bias1 = './images/bias/8-None-1-0.0s-Bias Frame.fit'\n",
    "bias2 = './images/bias/9-None-1-0.0s-Bias Frame.fit'\n",
    "\n",
    "gain = gainfun(flat1, flat2, bias1, bias2)\n",
    "read_noise = read_noise(bias1, bias2, gain)\n",
    "\n",
    "print(f\"Calculated Gain: {round(gain, 4)} e-/ADU\")\n",
    "print(f\"Calculated Read Noise: {round(read_noise, 4)} e-\")"
   ]
  },
  {
   "cell_type": "code",
   "execution_count": null,
   "id": "d7123049-e3c3-420b-9146-7f57f1c82f2b",
   "metadata": {
    "execution": {
     "iopub.execute_input": "2024-11-05T21:45:58.823950Z",
     "iopub.status.busy": "2024-11-05T21:45:58.823712Z",
     "iopub.status.idle": "2024-11-05T21:45:59.844205Z",
     "shell.execute_reply": "2024-11-05T21:45:59.843648Z",
     "shell.execute_reply.started": "2024-11-05T21:45:58.823936Z"
    }
   },
   "outputs": [],
   "source": [
    "#Según Handbook of CCD Astronomy estos flats debiesen ser mas gaussianos\n",
    "\n",
    "file='./images/flats/2/84-Entered Coordinates-2-0.2s-Flat Field.fit'\n",
    "with fits.open(file) as hdul:\n",
    "    data=hdul[0].data\n",
    "pixval = data.flatten()\n",
    "\n",
    "plt.figure(figsize=(8,7))\n",
    "plt.hist(pixval, bins=100, color='skyblue', edgecolor='black')\n",
    "plt.xlabel('ADU')\n",
    "plt.ylabel('Quantity')\n",
    "plt.yscale('log')\n",
    "plt.grid(True, linestyle='--', alpha=0.7)\n",
    "\n",
    "meanblue=np.mean(pixval)\n",
    "\n",
    "plt.savefig('blueflat.png')"
   ]
  },
  {
   "cell_type": "code",
   "execution_count": null,
   "id": "2408fff8-5055-456b-a99a-80a4f346da05",
   "metadata": {
    "execution": {
     "iopub.execute_input": "2024-11-05T21:46:03.107695Z",
     "iopub.status.busy": "2024-11-05T21:46:03.107453Z",
     "iopub.status.idle": "2024-11-05T21:46:04.128736Z",
     "shell.execute_reply": "2024-11-05T21:46:04.128161Z",
     "shell.execute_reply.started": "2024-11-05T21:46:03.107680Z"
    }
   },
   "outputs": [],
   "source": [
    "file='./images/flats/4/85-Entered Coordinates-4-0.2s-Flat Field.fit'\n",
    "with fits.open(file) as hdul:\n",
    "    data=hdul[0].data\n",
    "pixval = data.flatten()\n",
    "\n",
    "plt.figure(figsize=(8,7))\n",
    "plt.hist(pixval, bins=100, color='limegreen', edgecolor='black')\n",
    "plt.xlabel('ADU')\n",
    "plt.ylabel('Quantity')\n",
    "plt.yscale('log')\n",
    "plt.grid(True, linestyle='--', alpha=0.7)\n",
    "\n",
    "meangreen=np.mean(pixval)\n",
    "\n",
    "plt.savefig('greenflat.png')"
   ]
  },
  {
   "cell_type": "code",
   "execution_count": null,
   "id": "a243b6fc-ddea-41b4-be27-940b7285a019",
   "metadata": {
    "execution": {
     "iopub.execute_input": "2024-11-05T21:46:06.472743Z",
     "iopub.status.busy": "2024-11-05T21:46:06.472503Z",
     "iopub.status.idle": "2024-11-05T21:46:07.887692Z",
     "shell.execute_reply": "2024-11-05T21:46:07.887154Z",
     "shell.execute_reply.started": "2024-11-05T21:46:06.472729Z"
    }
   },
   "outputs": [],
   "source": [
    "file='./images/flats/5/88-Entered Coordinates-5-0.2s-Flat Field.fit'\n",
    "with fits.open(file) as hdul:\n",
    "    data=hdul[0].data\n",
    "pixval = data.flatten()\n",
    "\n",
    "plt.figure(figsize=(8,7))\n",
    "plt.hist(pixval, bins=100, color='pink', edgecolor='black')\n",
    "plt.xlabel('ADU')\n",
    "plt.ylabel('Quantity')\n",
    "plt.yscale('log')\n",
    "plt.grid(True, linestyle='--', alpha=0.7)\n",
    "\n",
    "meanred=np.mean(pixval)\n",
    "\n",
    "plt.savefig('redflat.png')"
   ]
  },
  {
   "cell_type": "code",
   "execution_count": null,
   "id": "5c556f7c-cc46-488e-8878-42d0adf653e8",
   "metadata": {
    "execution": {
     "iopub.execute_input": "2024-11-05T21:56:05.234276Z",
     "iopub.status.busy": "2024-11-05T21:56:05.233950Z",
     "iopub.status.idle": "2024-11-05T21:56:13.638150Z",
     "shell.execute_reply": "2024-11-05T21:56:13.637473Z",
     "shell.execute_reply.started": "2024-11-05T21:56:05.234262Z"
    }
   },
   "outputs": [],
   "source": [
    "#Esta celda determina las siguientes 3 celdas\n",
    "with fits.open('./fullcal/35-NGC 1976-4-6.0s-Light Frame.fit') as hdul:\n",
    "    hdul.info()\n",
    "    data = hdul[0].data.astype(float)\n",
    "    header = hdul[0].header"
   ]
  },
  {
   "cell_type": "code",
   "execution_count": null,
   "id": "861ce05a-23af-4ae5-a066-8f4cf602faaa",
   "metadata": {
    "execution": {
     "iopub.execute_input": "2024-11-05T22:00:03.133235Z",
     "iopub.status.busy": "2024-11-05T22:00:03.132983Z",
     "iopub.status.idle": "2024-11-05T22:00:03.605334Z",
     "shell.execute_reply": "2024-11-05T22:00:03.604787Z",
     "shell.execute_reply.started": "2024-11-05T22:00:03.133220Z"
    }
   },
   "outputs": [],
   "source": [
    "#3D histogram\n",
    "\n",
    "y1, y2, x1, x2 = 3630, 3690, 4250, 4310\n",
    "datasec = data[y1:y2,x1:x2]\n",
    "\n",
    "x = np.repeat(np.arange(y1, y2), x2 - x1 )\n",
    "y = np.tile(np.arange(x1, x2), y2 - y1)\n",
    "pixel_values = datasec.flatten()\n",
    "\n",
    "hist, edges = np.histogramdd((x, y, pixel_values), bins=(20, 20, 20))\n",
    "\n",
    "fig = plt.figure(figsize=(10, 8))\n",
    "ax = fig.add_subplot(111, projection='3d')\n",
    "\n",
    "xpos, ypos, zpos = np.meshgrid(\n",
    "    (edges[0][:-1] + edges[0][1:]) / 2,\n",
    "    (edges[1][:-1] + edges[1][1:]) / 2,\n",
    "    (edges[2][:-1] + edges[2][1:]) / 2,\n",
    "    indexing=\"ij\")\n",
    "xpos = xpos.ravel()\n",
    "ypos = ypos.ravel()\n",
    "zpos = zpos.flatten()\n",
    "hist_values = hist.ravel()\n",
    "width = depth = 1\n",
    "\n",
    "nonzero = hist_values > 0\n",
    "xpos, ypos, zpos, hist_values = xpos[nonzero], ypos[nonzero], zpos[nonzero], hist_values[nonzero]\n",
    "\n",
    "ax.bar3d(xpos, ypos, zpos, 1, 1, 1, shade=True, color='Violet')\n",
    "ax.set(xticklabels=[],\n",
    "       yticklabels=[])\n",
    "ax.set_ylabel('Columns')\n",
    "ax.set_xlabel('Rows')\n",
    "ax.set_zlabel('Pix Val')\n",
    "ax.set_title('HD 37062')\n",
    "ax.view_init(elev=15, azim=100)\n",
    "plt.savefig('HD37062-3D.png')"
   ]
  },
  {
   "cell_type": "code",
   "execution_count": null,
   "id": "e8c9a580-d099-4c0b-af45-4382e89361d6",
   "metadata": {
    "execution": {
     "iopub.execute_input": "2024-11-05T22:28:32.376251Z",
     "iopub.status.busy": "2024-11-05T22:28:32.376023Z",
     "iopub.status.idle": "2024-11-05T22:28:32.830755Z",
     "shell.execute_reply": "2024-11-05T22:28:32.830222Z",
     "shell.execute_reply.started": "2024-11-05T22:28:32.376236Z"
    }
   },
   "outputs": [],
   "source": [
    "#2D histogram with marginals top/right\n",
    "\n",
    "y1, y2, x1, x2 = 3630, 3690, 4250, 4310\n",
    "datasec = data[y1:y2,x1:x2]\n",
    "\n",
    "x = np.repeat(np.arange(y1, y2), x2 - x1 )\n",
    "y = np.tile(np.arange(x1, x2), y2 - y1)\n",
    "pixel_values = datasec.flatten()\n",
    "\n",
    "fig = plt.figure(figsize=(12, 12))\n",
    "gs = fig.add_gridspec(4, 3, hspace=0.05, wspace=0.05)\n",
    "\n",
    "ax_main = fig.add_subplot(gs[1:, :-1])\n",
    "hist, x_edges, y_edges, im = ax_main.hist2d(x, y, bins=60, weights=pixel_values, cmap='viridis')\n",
    "fig.colorbar(im, ax=ax_main, label='ADUs',location='bottom')\n",
    "\n",
    "ax_top = fig.add_subplot(gs[0, :-1], sharex=ax_main)\n",
    "ax_top.hist(x, bins=60, weights=pixel_values+400, color='violet')\n",
    "ax_top.tick_params(left = False, right = False, labelleft = False, labelbottom = False, bottom = False)\n",
    "\n",
    "ax_right = fig.add_subplot(gs[1:3, -1], sharey=ax_main)\n",
    "ax_right.hist(y, bins=60, weights=pixel_values+400, orientation='horizontal', color='violet')\n",
    "ax_right.tick_params(left = False, right = False, labelleft = False, labelbottom = False, bottom = False)\n",
    "\n",
    "# Set labels for the main plot\n",
    "ax_main.set_xlabel('Rows')\n",
    "ax_main.set_ylabel('Columns')\n",
    "\n",
    "plt.savefig('HD37062-Hists.png')"
   ]
  },
  {
   "cell_type": "code",
   "execution_count": null,
   "id": "ac97221f-2310-42df-b5a9-133526c3bfe0",
   "metadata": {
    "execution": {
     "iopub.execute_input": "2024-11-05T22:26:57.469035Z",
     "iopub.status.busy": "2024-11-05T22:26:57.468791Z",
     "iopub.status.idle": "2024-11-05T22:27:04.378944Z",
     "shell.execute_reply": "2024-11-05T22:27:04.378374Z",
     "shell.execute_reply.started": "2024-11-05T22:26:57.469013Z"
    }
   },
   "outputs": [],
   "source": [
    "#Muestra del threshold de 250 negativas\n",
    "threshold = -250\n",
    "smoothed_data = gaussian_filter(data, sigma=1)\n",
    "\n",
    "mask = smoothed_data >= threshold\n",
    "\n",
    "fig = plt.figure(figsize=(12, 10))\n",
    "plt.imshow(data, origin='lower', cmap='Greens', vmin=np.mean(data)-lsigma*np.std(data), vmax=np.mean(data)+usigma*np.std(data))\n",
    "plt.title('\"Calibrated\" NGC 1976 @ R')\n",
    "\n",
    "#Overlay\n",
    "plt.contour(mask, colors='red', levels=[0.7], linewidths=0.1)\n",
    "\n",
    "plt.tick_params(left = False, right = False, labelleft = False, labelbottom = False, bottom = False) \n",
    "plt.savefig('CalNGC1976R.png')"
   ]
  },
  {
   "cell_type": "code",
   "execution_count": null,
   "id": "4dec2cbf-70bf-421a-9c98-fd9057678f20",
   "metadata": {},
   "outputs": [],
   "source": []
  }
 ],
 "metadata": {
  "kernelspec": {
   "display_name": ".conda",
   "language": "python",
   "name": "python3"
  },
  "language_info": {
   "codemirror_mode": {
    "name": "ipython",
    "version": 3
   },
   "file_extension": ".py",
   "mimetype": "text/x-python",
   "name": "python",
   "nbconvert_exporter": "python",
   "pygments_lexer": "ipython3",
   "version": "3.12.11"
  }
 },
 "nbformat": 4,
 "nbformat_minor": 5
}
